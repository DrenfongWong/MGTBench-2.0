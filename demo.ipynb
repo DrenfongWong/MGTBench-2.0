{
 "cells": [
  {
   "cell_type": "code",
   "execution_count": 1,
   "metadata": {},
   "outputs": [],
   "source": [
    "import os\n",
    "# to use a specific GPU\n",
    "os.environ[\"CUDA_VISIBLE_DEVICES\"]=\"5\""
   ]
  },
  {
   "cell_type": "code",
   "execution_count": 2,
   "metadata": {},
   "outputs": [],
   "source": [
    "from mgtbench import AutoDetector, AutoExperiment\n",
    "from mgtbench.loading.dataloader import load"
   ]
  },
  {
   "cell_type": "markdown",
   "metadata": {},
   "source": [
    "#### Model-based Detector"
   ]
  },
  {
   "cell_type": "code",
   "execution_count": 3,
   "metadata": {},
   "outputs": [
    {
     "name": "stderr",
     "output_type": "stream",
     "text": [
      "Some weights of DistilBertForSequenceClassification were not initialized from the model checkpoint at /data1/models/distilbert-base-uncased and are newly initialized: ['classifier.bias', 'classifier.weight', 'pre_classifier.bias', 'pre_classifier.weight']\n",
      "You should probably TRAIN this model on a down-stream task to be able to use it for predictions and inference.\n"
     ]
    }
   ],
   "source": [
    "# local path to the model, or model name on huggingface\n",
    "model_name_or_path = '/data1/models/distilbert-base-uncased'\n",
    "metric = AutoDetector.from_detector_name('LM-D', \n",
    "                                            model_name_or_path=model_name_or_path)\n",
    "experiment = AutoExperiment.from_experiment_name('supervised',detector=[metric])"
   ]
  },
  {
   "cell_type": "code",
   "execution_count": 4,
   "metadata": {},
   "outputs": [],
   "source": [
    "'''\n",
    "supported LLMs and detect categories:\n",
    "\n",
    "categories = ['Physics', 'Medicine', 'Biology', 'Electrical_engineering', 'Computer_science', 'Literature', 'History', 'Education', 'Art', 'Law', 'Management', 'Philosophy', 'Economy', 'Math', 'Statistics', 'Chemistry']\n",
    "\n",
    "llms = ['Moonshot', 'gpt35', 'Mixtral', 'Llama3']\n",
    "'''\n",
    "data_name = 'AITextDetect'\n",
    "detectLLM = 'Llama3'\n",
    "category = 'Art'"
   ]
  },
  {
   "cell_type": "code",
   "execution_count": 5,
   "metadata": {},
   "outputs": [
    {
     "name": "stderr",
     "output_type": "stream",
     "text": [
      "Repo card metadata block was not found. Setting CardData to empty.\n"
     ]
    }
   ],
   "source": [
    "data = load(data_name, detectLLM, category)\n",
    "# for demo\n",
    "size = 200\n",
    "data['train']['text'] = data['train']['text'][:size]\n",
    "data['train']['label'] = data['train']['label'][:size]\n",
    "data['test']['text'] = data['test']['text'][:size]\n",
    "data['test']['label'] = data['test']['label'][:size]"
   ]
  },
  {
   "cell_type": "code",
   "execution_count": 6,
   "metadata": {},
   "outputs": [
    {
     "name": "stdout",
     "output_type": "stream",
     "text": [
      "Calculate result for each data point\n",
      "Running prediction of detector LM-D\n"
     ]
    },
    {
     "name": "stderr",
     "output_type": "stream",
     "text": [
      "/home/zhiyuan/miniconda3/envs/mgtbench2/lib/python3.11/site-packages/transformers/training_args.py:1545: FutureWarning: `evaluation_strategy` is deprecated and will be removed in version 4.46 of 🤗 Transformers. Use `eval_strategy` instead\n",
      "  warnings.warn(\n",
      "/home/zhiyuan/miniconda3/envs/mgtbench2/lib/python3.11/site-packages/transformers/optimization.py:591: FutureWarning: This implementation of AdamW is deprecated and will be removed in a future version. Use the PyTorch implementation torch.optim.AdamW instead, or set `no_deprecation_warning=True` to disable this warning\n",
      "  warnings.warn(\n",
      "Detected kernel version 5.4.0, which is below the recommended minimum of 5.5.0; this can cause the process to hang. It is recommended to upgrade the kernel to the minimum version or higher.\n"
     ]
    },
    {
     "data": {
      "text/html": [
       "\n",
       "    <div>\n",
       "      \n",
       "      <progress value='13' max='13' style='width:300px; height:20px; vertical-align: middle;'></progress>\n",
       "      [13/13 00:01, Epoch 1/1]\n",
       "    </div>\n",
       "    <table border=\"1\" class=\"dataframe\">\n",
       "  <thead>\n",
       " <tr style=\"text-align: left;\">\n",
       "      <th>Step</th>\n",
       "      <th>Training Loss</th>\n",
       "    </tr>\n",
       "  </thead>\n",
       "  <tbody>\n",
       "  </tbody>\n",
       "</table><p>"
      ],
      "text/plain": [
       "<IPython.core.display.HTML object>"
      ]
     },
     "metadata": {},
     "output_type": "display_data"
    },
    {
     "name": "stdout",
     "output_type": "stream",
     "text": [
      "Fine-tune finished\n",
      "Predict training data\n"
     ]
    },
    {
     "name": "stderr",
     "output_type": "stream",
     "text": [
      "100%|██████████| 200/200 [00:01<00:00, 185.12it/s]\n"
     ]
    },
    {
     "name": "stdout",
     "output_type": "stream",
     "text": [
      "Predict testing data\n"
     ]
    },
    {
     "name": "stderr",
     "output_type": "stream",
     "text": [
      "100%|██████████| 200/200 [00:01<00:00, 187.62it/s]"
     ]
    },
    {
     "name": "stdout",
     "output_type": "stream",
     "text": [
      "Run classification for results\n",
      "==========\n",
      "train: Metric(acc=0.68, precision=0.6374269005847953, recall=0.9819819819819819, f1=0.7730496453900709, auc=0.9412389918007896)\n",
      "test: Metric(acc=0.615, precision=0.5535714285714286, recall=0.9789473684210527, f1=0.7072243346007605, auc=0.9258145363408521)\n"
     ]
    },
    {
     "name": "stderr",
     "output_type": "stream",
     "text": [
      "\n"
     ]
    }
   ],
   "source": [
    "experiment.load_data(data)\n",
    "config = {'need_finetune': True,\n",
    "          'need_save': False,\n",
    "          'epochs': 1, # for model-based detectors\n",
    "          }\n",
    "res = experiment.launch(**config)\n",
    "print('==========')\n",
    "print('train:', res[0].train)\n",
    "print('test:', res[0].test)"
   ]
  },
  {
   "cell_type": "markdown",
   "metadata": {},
   "source": [
    "#### Metric-based Detector"
   ]
  },
  {
   "cell_type": "code",
   "execution_count": 7,
   "metadata": {},
   "outputs": [],
   "source": [
    "# log-likelihood detector\n",
    "model_name_or_path = '/data1/zzy/gpt2-medium'\n",
    "metric = AutoDetector.from_detector_name('ll', \n",
    "                                            model_name_or_path=model_name_or_path)\n",
    "experiment = AutoExperiment.from_experiment_name('threshold',detector=[metric])"
   ]
  },
  {
   "cell_type": "code",
   "execution_count": 8,
   "metadata": {},
   "outputs": [],
   "source": [
    "data_name = 'AITextDetect'\n",
    "detectLLM = 'gpt35'\n",
    "category = 'Art'"
   ]
  },
  {
   "cell_type": "code",
   "execution_count": 9,
   "metadata": {},
   "outputs": [
    {
     "name": "stderr",
     "output_type": "stream",
     "text": [
      "Repo card metadata block was not found. Setting CardData to empty.\n"
     ]
    },
    {
     "data": {
      "text/plain": [
       "('Calligraphy and Silk Painting in Vietnamese Art\\n\\nDespite the decline in use among scholars and elites, calligraphy remains an important part of Vietnamese culture. It is commonly featured in calligraphy hangings, which are made by village teachers or scholars and often display poetry, folk sayings, or single words. Even those who cannot read or write often commission scholars to write prayers that are then burned at temple shrines.\\n\\nAnother popular form of art in Vietnam is silk painting. This medium is known for the mystical atmosphere it can convey. In the 19th and 20th centuries, Vietnamese art absorbed French influence, resulting in a more liberal and modern use of the medium.\\n\\nOverall, calligraphy and silk painting play significant roles in Vietnamese art. While calligraphy serves as a way to display both written language and artistry, silk painting creates a unique, ethereal aesthetic that is beloved by many.',\n",
       " 1)"
      ]
     },
     "execution_count": 9,
     "metadata": {},
     "output_type": "execute_result"
    }
   ],
   "source": [
    "data = load(data_name, detectLLM, category)\n",
    "# for demo\n",
    "size = 200\n",
    "data['train']['text'] = data['train']['text'][:size]\n",
    "data['train']['label'] = data['train']['label'][:size]\n",
    "data['test']['text'] = data['test']['text'][:size]\n",
    "data['test']['label'] = data['test']['label'][:size]\n",
    "\n",
    "data['train']['text'][0], data['train']['label'][0]"
   ]
  },
  {
   "cell_type": "code",
   "execution_count": 10,
   "metadata": {},
   "outputs": [
    {
     "name": "stdout",
     "output_type": "stream",
     "text": [
      "Calculate result for each data point\n",
      "Running prediction of detector ll\n",
      "Predict training data\n"
     ]
    },
    {
     "name": "stderr",
     "output_type": "stream",
     "text": [
      "100%|██████████| 200/200 [00:02<00:00, 89.61it/s]\n"
     ]
    },
    {
     "name": "stdout",
     "output_type": "stream",
     "text": [
      "Predict testing data\n"
     ]
    },
    {
     "name": "stderr",
     "output_type": "stream",
     "text": [
      "100%|██████████| 200/200 [00:02<00:00, 89.56it/s]"
     ]
    },
    {
     "name": "stdout",
     "output_type": "stream",
     "text": [
      "Run classification for results\n",
      "==========\n",
      "train: Metric(acc=0.75, precision=0.7666666666666667, recall=0.7040816326530612, f1=0.7340425531914894, auc=0.8145258103241296)\n",
      "test: Metric(acc=0.695, precision=0.6767676767676768, recall=0.6979166666666666, f1=0.6871794871794872, auc=0.7933693910256411)\n"
     ]
    },
    {
     "name": "stderr",
     "output_type": "stream",
     "text": [
      "\n"
     ]
    }
   ],
   "source": [
    "experiment.load_data(data)\n",
    "res = experiment.launch()\n",
    "print('==========')\n",
    "print('train:', res[0].train)\n",
    "print('test:', res[0].test)"
   ]
  },
  {
   "cell_type": "markdown",
   "metadata": {},
   "source": [
    "#### Fast-DetectGPT\n"
   ]
  },
  {
   "cell_type": "code",
   "execution_count": 3,
   "metadata": {},
   "outputs": [],
   "source": [
    "scoring_model_name_or_path = '/data1/zzy/gpt2-medium'\n",
    "reference_model_name_or_path = '/data1/zzy/gpt2-medium'\n",
    "\n",
    "fastDetectGPT = AutoDetector.from_detector_name('fast-detectGPT', \n",
    "                                            scoring_model_name_or_path=scoring_model_name_or_path,\n",
    "                                            reference_model_name_or_path= reference_model_name_or_path)\n",
    "experiment = AutoExperiment.from_experiment_name('perturb', detector=[fastDetectGPT])"
   ]
  },
  {
   "cell_type": "code",
   "execution_count": 6,
   "metadata": {},
   "outputs": [
    {
     "name": "stdout",
     "output_type": "stream",
     "text": [
      "loading human data\n",
      "loading machine data\n",
      "data loaded\n"
     ]
    },
    {
     "name": "stderr",
     "output_type": "stream",
     "text": [
      "parsing data: 100%|██████████| 6962/6962 [00:00<00:00, 18134.88it/s]\n"
     ]
    }
   ],
   "source": [
    "data_name = 'AITextDetect'\n",
    "detectLLM = 'Llama3'\n",
    "category = 'Biology'\n",
    "data = load(data_name, detectLLM, category)\n",
    "# for demo\n",
    "size = 200\n",
    "data['train']['text'] = data['train']['text'][:size]\n",
    "data['train']['label'] = data['train']['label'][:size]\n",
    "data['test']['text'] = data['test']['text'][:size]\n",
    "data['test']['label'] = data['test']['label'][:size]"
   ]
  },
  {
   "cell_type": "code",
   "execution_count": 7,
   "metadata": {},
   "outputs": [
    {
     "name": "stdout",
     "output_type": "stream",
     "text": [
      "Calculate result for each data point\n",
      "Running prediction of detector fast-detectGPT\n",
      "Predict training data\n"
     ]
    },
    {
     "name": "stderr",
     "output_type": "stream",
     "text": [
      "Detecting: 100%|██████████| 200/200 [00:02<00:00, 68.29it/s]\n"
     ]
    },
    {
     "name": "stdout",
     "output_type": "stream",
     "text": [
      "Predict testing data\n"
     ]
    },
    {
     "name": "stderr",
     "output_type": "stream",
     "text": [
      "Detecting: 100%|██████████| 200/200 [00:02<00:00, 69.23it/s]"
     ]
    },
    {
     "name": "stdout",
     "output_type": "stream",
     "text": [
      "Run classification for results\n",
      "==========\n",
      "train: Metric(acc=0.78, precision=0.7956989247311828, recall=0.7474747474747475, f1=0.7708333333333334, auc=0.8527352735273528, conf_m=None)\n",
      "test: Metric(acc=0.815, precision=0.8764044943820225, recall=0.75, f1=0.8082901554404145, auc=0.9102564102564102, conf_m=None)\n"
     ]
    },
    {
     "name": "stderr",
     "output_type": "stream",
     "text": [
      "\n"
     ]
    }
   ],
   "source": [
    "experiment.load_data(data)\n",
    "res = experiment.launch()\n",
    "print('==========')\n",
    "print('train:', res[0].train)\n",
    "print('test:', res[0].test)"
   ]
  }
 ],
 "metadata": {
  "language_info": {
   "name": "python"
  }
 },
 "nbformat": 4,
 "nbformat_minor": 2
}
