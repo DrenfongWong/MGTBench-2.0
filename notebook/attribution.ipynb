{
 "cells": [
  {
   "cell_type": "code",
   "execution_count": 1,
   "metadata": {},
   "outputs": [],
   "source": [
    "%load_ext autoreload\n",
    "%autoreload 2"
   ]
  },
  {
   "cell_type": "code",
   "execution_count": 2,
   "metadata": {},
   "outputs": [],
   "source": [
    "import os\n",
    "# to use a specific GPU\n",
    "os.environ[\"CUDA_VISIBLE_DEVICES\"]=\"0\""
   ]
  },
  {
   "cell_type": "code",
   "execution_count": 3,
   "metadata": {},
   "outputs": [],
   "source": [
    "import sys\n",
    "sys.path.append('..')"
   ]
  },
  {
   "cell_type": "code",
   "execution_count": 4,
   "metadata": {},
   "outputs": [],
   "source": [
    "from mgtbench.loading.dataloader import load_attribution_topic\n",
    "# Humanities Social_sciences\n",
    "data = load_attribution_topic('Social_sciences')"
   ]
  },
  {
   "cell_type": "markdown",
   "metadata": {},
   "source": [
    "Model-based Attribution"
   ]
  },
  {
   "cell_type": "code",
   "execution_count": 5,
   "metadata": {},
   "outputs": [
    {
     "name": "stderr",
     "output_type": "stream",
     "text": [
      "Some weights of RobertaForSequenceClassification were not initialized from the model checkpoint at /data1/zzy/roberta-base and are newly initialized: ['classifier.dense.bias', 'classifier.dense.weight', 'classifier.out_proj.bias', 'classifier.out_proj.weight']\n",
      "You should probably TRAIN this model on a down-stream task to be able to use it for predictions and inference.\n"
     ]
    },
    {
     "name": "stdout",
     "output_type": "stream",
     "text": [
      "length is set to 512\n",
      "Calculate result for each data point\n",
      "Running prediction of detector LM-D\n",
      "False\n",
      "using metric trainer\n"
     ]
    },
    {
     "name": "stderr",
     "output_type": "stream",
     "text": [
      "/home/lyl/miniconda3/envs/llm/lib/python3.10/site-packages/transformers/optimization.py:457: FutureWarning: This implementation of AdamW is deprecated and will be removed in a future version. Use the PyTorch implementation torch.optim.AdamW instead, or set `no_deprecation_warning=True` to disable this warning\n",
      "  warnings.warn(\n",
      "/home/lyl/miniconda3/envs/llm/lib/python3.10/site-packages/accelerate/accelerator.py:457: FutureWarning: Passing the following arguments to `Accelerator` is deprecated and will be removed in version 1.0 of Accelerate: dict_keys(['dispatch_batches', 'split_batches', 'even_batches', 'use_seedable_sampler']). Please pass an `accelerate.DataLoaderConfiguration` instead: \n",
      "dataloader_config = DataLoaderConfiguration(dispatch_batches=None, split_batches=False, even_batches=True, use_seedable_sampler=True)\n",
      "  warnings.warn(\n",
      "Detected kernel version 5.4.0, which is below the recommended minimum of 5.5.0; this can cause the process to hang. It is recommended to upgrade the kernel to the minimum version or higher.\n"
     ]
    },
    {
     "data": {
      "text/html": [
       "\n",
       "    <div>\n",
       "      \n",
       "      <progress value='270' max='270' style='width:300px; height:20px; vertical-align: middle;'></progress>\n",
       "      [270/270 02:22, Epoch 2/2]\n",
       "    </div>\n",
       "    <table border=\"1\" class=\"dataframe\">\n",
       "  <thead>\n",
       " <tr style=\"text-align: left;\">\n",
       "      <th>Step</th>\n",
       "      <th>Training Loss</th>\n",
       "    </tr>\n",
       "  </thead>\n",
       "  <tbody>\n",
       "    <tr>\n",
       "      <td>30</td>\n",
       "      <td>5.938900</td>\n",
       "    </tr>\n",
       "    <tr>\n",
       "      <td>60</td>\n",
       "      <td>4.939800</td>\n",
       "    </tr>\n",
       "    <tr>\n",
       "      <td>90</td>\n",
       "      <td>4.555600</td>\n",
       "    </tr>\n",
       "    <tr>\n",
       "      <td>120</td>\n",
       "      <td>4.454800</td>\n",
       "    </tr>\n",
       "    <tr>\n",
       "      <td>150</td>\n",
       "      <td>4.242400</td>\n",
       "    </tr>\n",
       "    <tr>\n",
       "      <td>180</td>\n",
       "      <td>4.161800</td>\n",
       "    </tr>\n",
       "    <tr>\n",
       "      <td>210</td>\n",
       "      <td>4.142500</td>\n",
       "    </tr>\n",
       "    <tr>\n",
       "      <td>240</td>\n",
       "      <td>4.057500</td>\n",
       "    </tr>\n",
       "    <tr>\n",
       "      <td>270</td>\n",
       "      <td>3.957400</td>\n",
       "    </tr>\n",
       "  </tbody>\n",
       "</table><p>"
      ],
      "text/plain": [
       "<IPython.core.display.HTML object>"
      ]
     },
     "metadata": {},
     "output_type": "display_data"
    },
    {
     "name": "stdout",
     "output_type": "stream",
     "text": [
      "Fine-tune finished\n",
      "Predict training data\n",
      "Predict testing data\n",
      "Run classification for results\n",
      "[[358   0   4   1   1   0]\n",
      " [  0 253   9  42  37  15]\n",
      " [  5   7 281  25   9  24]\n",
      " [  0  35  26 266  28   3]\n",
      " [  2  55   8  27 224  34]\n",
      " [  0  41  24   4  39 258]]\n",
      "[[1406    0   16    1    1    0]\n",
      " [   2 1031   26  158  157   58]\n",
      " [  37   24 1180   67   55   74]\n",
      " [   3  134   60 1042  162   29]\n",
      " [   5  195   63  140  911  124]\n",
      " [   8  125   83   27  140 1039]]\n"
     ]
    }
   ],
   "source": [
    "from mgtbench import AutoDetector, AutoExperiment\n",
    "nclass = len(set(data['train']['label']))\n",
    "model= '/data1/zzy/roberta-base'\n",
    "metric = AutoDetector.from_detector_name('LM-D',\n",
    "                                        model_name_or_path=model,\n",
    "                                        num_labels=nclass,\n",
    "                                        use_metric=True\n",
    "                                        )\n",
    "experiment = AutoExperiment.from_experiment_name('supervised',detector=[metric])\n",
    "experiment.load_data(data)\n",
    "\n",
    "config = {\n",
    "    'need_finetune': True,\n",
    "    'need_save': False,\n",
    "    'epochs': 2,\n",
    "    'batch_size': 64,\n",
    "    'lr':5e-6,\n",
    "    'disable_tqdm': True\n",
    "    }\n",
    "res = experiment.launch(**config)"
   ]
  },
  {
   "cell_type": "code",
   "execution_count": 6,
   "metadata": {},
   "outputs": [
    {
     "data": {
      "text/plain": [
       "[DetectOutput(name='test_pred', train=None, test=Metric(acc=0.7645687645687645, precision=0.7660343494346146, recall=0.7645687645687645, f1=0.7647463869086015, auc=-1.0, conf_m=array([[358,   0,   4,   1,   1,   0],\n",
       "        [  0, 253,   9,  42,  37,  15],\n",
       "        [  5,   7, 281,  25,   9,  24],\n",
       "        [  0,  35,  26, 266,  28,   3],\n",
       "        [  2,  55,   8,  27, 224,  34],\n",
       "        [  0,  41,  24,   4,  39, 258]]))),\n",
       " DetectOutput(name='train_pred', train=None, test=Metric(acc=0.7700104858441105, precision=0.7700292688758228, recall=0.7700104858441105, f1=0.769749548423765, auc=-1.0, conf_m=array([[1406,    0,   16,    1,    1,    0],\n",
       "        [   2, 1031,   26,  158,  157,   58],\n",
       "        [  37,   24, 1180,   67,   55,   74],\n",
       "        [   3,  134,   60, 1042,  162,   29],\n",
       "        [   5,  195,   63,  140,  911,  124],\n",
       "        [   8,  125,   83,   27,  140, 1039]])))]"
      ]
     },
     "execution_count": 6,
     "metadata": {},
     "output_type": "execute_result"
    }
   ],
   "source": [
    "res"
   ]
  },
  {
   "cell_type": "markdown",
   "metadata": {},
   "source": [
    "metric-based attribution"
   ]
  },
  {
   "cell_type": "code",
   "execution_count": null,
   "metadata": {},
   "outputs": [],
   "source": []
  },
  {
   "cell_type": "markdown",
   "metadata": {},
   "source": [
    "multi-metric-based attribution"
   ]
  },
  {
   "cell_type": "markdown",
   "metadata": {},
   "source": [
    "First, you may generate different metrics and save them."
   ]
  },
  {
   "cell_type": "code",
   "execution_count": null,
   "metadata": {},
   "outputs": [],
   "source": [
    "from mgtbench import AutoDetector, AutoExperiment\n",
    "import numpy as np\n",
    "# log-likelihood detector\n",
    "model_name_or_path = '/data1/models/Llama-2-7b-chat-hf'\n",
    "metric = AutoDetector.from_detector_name('rank',\n",
    "                                         model_name_or_path=model_name_or_path)\n",
    "lls_train = metric.detect(data['train']['text'],log=True)\n",
    "lls_test = metric.detect(data['test']['text'],log=True)\n",
    "X_train = np.array(lls_train).reshape(-1,1)\n",
    "X_test = np.array(lls_test).reshape(-1,1)\n",
    "data_dict = {\n",
    "    \"X_train\": X_train,\n",
    "    \"y_train\": data['train']['label'],\n",
    "    \"X_test\": X_test,\n",
    "    \"y_test\": data['test']['label']\n",
    "}\n",
    "import pickle\n",
    "\n",
    "# Save to a pickle file\n",
    "folder = 'kdd'\n",
    "output_file = os.path.join(folder, \"rank_stem.pkl\")\n",
    "with open(output_file, \"wb\") as f:\n",
    "    pickle.dump(data_dict, f)\n",
    "\n",
    "print(f\"Data saved to {output_file}\")"
   ]
  },
  {
   "cell_type": "markdown",
   "metadata": {},
   "source": [
    "Then, feel free to load and concat them for inference"
   ]
  },
  {
   "cell_type": "code",
   "execution_count": null,
   "metadata": {},
   "outputs": [],
   "source": [
    "import json\n",
    "folder = 'kdd_full'\n",
    "TOPICS = ['STEM', 'Humanities', 'Social_sciences']\n",
    "final_result = {}\n",
    "\n",
    "for topic in TOPICS:\n",
    "    # Load the pickle files\n",
    "    topic = topic.lower()\n",
    "    entropy = pickle.load(open(os.path.join(folder, f\"entropy_{topic}.pkl\"), \"rb\"))\n",
    "    log_rank = pickle.load(open(os.path.join(folder, f\"rank_{topic}.pkl\"), \"rb\"))\n",
    "    ll = pickle.load(open(os.path.join(folder, f\"ll_{topic}.pkl\"), \"rb\"))\n",
    "    fast = pickle.load(open(os.path.join(folder, f\"fast-detectgpt_{topic}.pkl\"), \"rb\"))\n",
    "    bino = pickle.load(open(os.path.join(folder, f\"binoculars_{topic}.pkl\"), \"rb\"))\n",
    "\n",
    "    # Extract training and testing sets from each file\n",
    "    X_train_entropy, y_train_entropy, X_test_entropy, y_test_entropy = tuple(entropy.values())\n",
    "    X_train_logrank, y_train_logrank, X_test_logrank, y_test_logrank = tuple(log_rank.values())\n",
    "    X_train_ll, y_train_ll, X_test_ll, y_test_ll = tuple(ll.values())\n",
    "    X_train_fast, y_train_fast, X_test_fast, y_test_fast = tuple(fast.values())\n",
    "    X_train_bino, y_train_bino, X_test_bino, y_test_bino = tuple(bino.values())\n",
    "\n",
    "\n",
    "    # Function to evaluate performance for a given set of features\n",
    "    def evaluate_performance(X_train, X_test, y_train, y_test):\n",
    "        model = LogisticRegression()\n",
    "        model.fit(X_train, y_train)\n",
    "        y_pred = model.predict(X_test)\n",
    "        accuracy = accuracy_score(y_test, y_pred)\n",
    "        f1 = f1_score(y_test, y_pred, average='weighted')  # Using weighted average for multi-class support\n",
    "        return accuracy, f1\n",
    "\n",
    "    import xgboost as xgb\n",
    "    from sklearn.metrics import accuracy_score, f1_score\n",
    "    import numpy as np\n",
    "\n",
    "    # Function to evaluate performance and get feature importance\n",
    "    def evaluate_performance_xgboost(X_train, X_test, y_train, y_test):\n",
    "        model = xgb.XGBClassifier(use_label_encoder=False, eval_metric='mlogloss')\n",
    "        model.fit(X_train, y_train)\n",
    "        \n",
    "        # Predicting on test data\n",
    "        y_pred = model.predict(X_test)\n",
    "        \n",
    "        # Evaluate performance metrics\n",
    "        accuracy = accuracy_score(y_test, y_pred)\n",
    "        f1 = f1_score(y_test, y_pred, average='weighted')  # Using weighted average for multi-class support\n",
    "        \n",
    "        # Get feature importances (most significant features)\n",
    "        feature_importances = model.feature_importances_\n",
    "        \n",
    "        print('ll\\tlogrank\\tentropy\\tfast\\tbino')\n",
    "        print(feature_importances)\n",
    "        \n",
    "        # Get the index of the most important feature\n",
    "        most_important_feature_index = np.argmax(feature_importances)\n",
    "        \n",
    "        # Get the importance score of the most important feature\n",
    "        most_important_feature_score = feature_importances[most_important_feature_index]\n",
    "        \n",
    "        return accuracy, f1, most_important_feature_index, most_important_feature_score, feature_importances.tolist()\n",
    "\n",
    "    # Example usage\n",
    "\n",
    "    # Track performance for different combinations of features\n",
    "    results = {}\n",
    "    accuracy_concat1, f1_concat1 = evaluate_performance(X_train_ll, X_test_ll, y_train_ll, y_test_ll)\n",
    "    results['ll'] = {'accuracy': accuracy_concat1, 'f1': f1_concat1}\n",
    "\n",
    "    accuracy_concat1, f1_concat1 = evaluate_performance(X_train_logrank, X_test_logrank, y_train_logrank, y_test_logrank)\n",
    "    results['log_rank'] = {'accuracy': accuracy_concat1, 'f1': f1_concat1}\n",
    "\n",
    "    accuracy_concat1, f1_concat1 = evaluate_performance(X_train_entropy, X_test_entropy, y_train_entropy, y_test_entropy)\n",
    "    results['entropy'] = {'accuracy': accuracy_concat1, 'f1': f1_concat1}\n",
    "\n",
    "    accuracy_concat1, f1_concat1 = evaluate_performance(X_train_fast, X_test_fast, y_train_fast, y_test_fast)\n",
    "    results['fast'] = {'accuracy': accuracy_concat1, 'f1': f1_concat1}\n",
    "\n",
    "    accuracy_concat1, f1_concat1 = evaluate_performance(X_train_bino, X_test_bino, y_train_bino, y_test_bino)\n",
    "    results['bino'] = {'accuracy': accuracy_concat1, 'f1': f1_concat1}\n",
    "\n",
    "    # # Case 1: Using only one feature\n",
    "    # X_train_concat1 = X_train_entropy\n",
    "    # X_test_concat1 = X_test_entropy\n",
    "    # accuracy_concat1, f1_concat1 = evaluate_performance(X_train_concat1, X_test_concat1, y_train_entropy, y_test_entropy)\n",
    "    # results['entropy'] = {'accuracy': accuracy_concat1, 'f1': f1_concat1}\n",
    "\n",
    "    # accuracy_concat1, f1_concat1 = evaluate_performance(X_train_fast, X_test_fast, y_train_fast, y_test_fast)\n",
    "    # results['fast'] = {'accuracy': accuracy_concat1, 'f1': f1_concat1}\n",
    "\n",
    "    # accuracy_concat1, f1_concat1 = evaluate_performance(X_train_bino, X_test_bino, y_train_bino, y_test_bino)\n",
    "    # results['bino'] = {'accuracy': accuracy_concat1, 'f1': f1_concat1}\n",
    "\n",
    "    # # Case 2: Using entropy + log_rank features\n",
    "    # X_train_concat2 = np.concatenate((X_train_concat1, X_train_logrank), axis=1)\n",
    "    # X_test_concat2 = np.concatenate((X_test_concat1, X_test_logrank), axis=1)\n",
    "    # accuracy_concat2, f1_concat2 = evaluate_performance(X_train_concat2, X_test_concat2, y_train_entropy, y_test_entropy)\n",
    "    # results['entropy + log_rank'] = {'accuracy': accuracy_concat2, 'f1': f1_concat2}\n",
    "\n",
    "    # # Case 2: Using ll + log_rank features\n",
    "    # X_train_concat2 = np.concatenate((X_train_ll, X_train_logrank), axis=1)\n",
    "    # X_test_concat2 = np.concatenate((X_test_ll, X_test_logrank), axis=1)\n",
    "    # accuracy_concat2, f1_concat2 = evaluate_performance(X_train_concat2, X_test_concat2, y_train_ll, y_test_ll)\n",
    "    # results['ll + log_rank'] = {'accuracy': accuracy_concat2, 'f1': f1_concat2}\n",
    "\n",
    "    # # Case 2: fast + bino features\n",
    "    # X_train_concat2 = np.concatenate((X_train_fast, X_train_bino), axis=1)\n",
    "\n",
    "\n",
    "    # # Case 3: Using entropy + log_rank + ll features\n",
    "    # X_train_concat3 = np.concatenate((X_train_concat2, X_train_ll), axis=1)\n",
    "    # X_test_concat3 = np.concatenate((X_test_concat2, X_test_ll), axis=1)\n",
    "    # accuracy_concat3, f1_concat3 = evaluate_performance(X_train_concat3, X_test_concat3, y_train_entropy, y_test_entropy)\n",
    "    # results['entropy + log_rank + ll'] = {'accuracy': accuracy_concat3, 'f1': f1_concat3}\n",
    "\n",
    "    # Use all\n",
    "    X_train_concat_all = np.concatenate((X_train_ll, X_train_logrank, X_train_entropy, X_train_fast, X_train_bino), axis=1)\n",
    "    X_test_concat_all = np.concatenate((X_test_ll, X_test_logrank, X_test_entropy, X_test_fast, X_test_bino), axis=1)\n",
    "    accuracy, f1, most_important_feature, importance_score, feature_importances = evaluate_performance_xgboost(X_train_concat_all, X_test_concat_all, y_train_entropy, y_test_entropy)\n",
    "    results['all'] = {'accuracy': accuracy,\n",
    "                    'f1': f1,\n",
    "                    'most_important_feature': int(most_important_feature),\n",
    "                    'importance_score': float(importance_score), \n",
    "                    'order': ['ll', 'log_rank', 'entropy', 'fast', 'bino'],\n",
    "                    'feature_importances': feature_importances\n",
    "                    }\n",
    "    \n",
    "    final_result[topic] = results\n",
    "    \n",
    "\n",
    "# round all float to 4 decimal places\n",
    "final_result = json.loads(json.dumps(final_result), parse_float=lambda x: round(float(x), 4))\n",
    "json.dump(final_result, open(os.path.join(folder, \"results.json\"), \"w\"), indent=4)\n",
    "    # # Print results\n",
    "    # for features, scores in results.items():\n",
    "    #     print(f\"Performance using {features}:\")\n",
    "    #     print(f\"  Accuracy: {scores['accuracy']:.4f}\")\n",
    "    #     print(f\"  F1 Score: {scores['f1']:.4f}\")\n",
    "    #     if 'most_important_feature' in scores:\n",
    "    #         print(f\"  Most important feature: {scores['most_important_feature']}\")\n",
    "    #         print(f\"  Importance score: {scores['importance_score']:.4f}\")\n",
    "    #     print()\n"
   ]
  }
 ],
 "metadata": {
  "kernelspec": {
   "display_name": "llm",
   "language": "python",
   "name": "python3"
  },
  "language_info": {
   "codemirror_mode": {
    "name": "ipython",
    "version": 3
   },
   "file_extension": ".py",
   "mimetype": "text/x-python",
   "name": "python",
   "nbconvert_exporter": "python",
   "pygments_lexer": "ipython3",
   "version": "3.10.13"
  }
 },
 "nbformat": 4,
 "nbformat_minor": 2
}
