{
 "cells": [
  {
   "cell_type": "code",
   "execution_count": 1,
   "metadata": {},
   "outputs": [],
   "source": [
    "%load_ext autoreload\n",
    "%autoreload 2"
   ]
  },
  {
   "cell_type": "code",
   "execution_count": 2,
   "metadata": {},
   "outputs": [],
   "source": [
    "import os\n",
    "# to use a specific GPU\n",
    "os.environ[\"CUDA_VISIBLE_DEVICES\"]=\"2\""
   ]
  },
  {
   "cell_type": "code",
   "execution_count": 3,
   "metadata": {},
   "outputs": [],
   "source": [
    "import sys\n",
    "sys.path.append('..')"
   ]
  },
  {
   "cell_type": "code",
   "execution_count": 4,
   "metadata": {},
   "outputs": [],
   "source": [
    "from mgtbench.loading.dataloader import load_attribution_topic\n",
    "# Humanities Social_sciences\n",
    "data_dict = load_attribution_topic('Social_sciences')\n",
    "y_train = data_dict[\"train\"]['label']\n",
    "X_train = data_dict[\"train\"]['text']\n",
    "y_test = data_dict[\"test\"]['label']\n",
    "X_test = data_dict[\"test\"]['text']\n",
    "import random\n"
   ]
  },
  {
   "cell_type": "code",
   "execution_count": 5,
   "metadata": {},
   "outputs": [
    {
     "name": "stderr",
     "output_type": "stream",
     "text": [
      "Some weights of RobertaForSequenceClassification were not initialized from the model checkpoint at /data1/zzy/roberta-base and are newly initialized: ['classifier.dense.bias', 'classifier.dense.weight', 'classifier.out_proj.bias', 'classifier.out_proj.weight']\n",
      "You should probably TRAIN this model on a down-stream task to be able to use it for predictions and inference.\n"
     ]
    },
    {
     "name": "stdout",
     "output_type": "stream",
     "text": [
      "length is set to 512\n",
      "Calculate result for each data point\n",
      "Running prediction of detector LM-D\n",
      "False\n",
      "using metric trainer\n"
     ]
    },
    {
     "name": "stderr",
     "output_type": "stream",
     "text": [
      "/home/lyl/miniconda3/envs/llm/lib/python3.10/site-packages/transformers/optimization.py:457: FutureWarning: This implementation of AdamW is deprecated and will be removed in a future version. Use the PyTorch implementation torch.optim.AdamW instead, or set `no_deprecation_warning=True` to disable this warning\n",
      "  warnings.warn(\n",
      "/home/lyl/miniconda3/envs/llm/lib/python3.10/site-packages/accelerate/accelerator.py:457: FutureWarning: Passing the following arguments to `Accelerator` is deprecated and will be removed in version 1.0 of Accelerate: dict_keys(['dispatch_batches', 'split_batches', 'even_batches', 'use_seedable_sampler']). Please pass an `accelerate.DataLoaderConfiguration` instead: \n",
      "dataloader_config = DataLoaderConfiguration(dispatch_batches=None, split_batches=False, even_batches=True, use_seedable_sampler=True)\n",
      "  warnings.warn(\n",
      "Detected kernel version 5.4.0, which is below the recommended minimum of 5.5.0; this can cause the process to hang. It is recommended to upgrade the kernel to the minimum version or higher.\n"
     ]
    },
    {
     "data": {
      "text/html": [
       "\n",
       "    <div>\n",
       "      \n",
       "      <progress value='270' max='270' style='width:300px; height:20px; vertical-align: middle;'></progress>\n",
       "      [270/270 02:22, Epoch 2/2]\n",
       "    </div>\n",
       "    <table border=\"1\" class=\"dataframe\">\n",
       "  <thead>\n",
       " <tr style=\"text-align: left;\">\n",
       "      <th>Step</th>\n",
       "      <th>Training Loss</th>\n",
       "    </tr>\n",
       "  </thead>\n",
       "  <tbody>\n",
       "    <tr>\n",
       "      <td>30</td>\n",
       "      <td>5.938900</td>\n",
       "    </tr>\n",
       "    <tr>\n",
       "      <td>60</td>\n",
       "      <td>4.939800</td>\n",
       "    </tr>\n",
       "    <tr>\n",
       "      <td>90</td>\n",
       "      <td>4.555600</td>\n",
       "    </tr>\n",
       "    <tr>\n",
       "      <td>120</td>\n",
       "      <td>4.454800</td>\n",
       "    </tr>\n",
       "    <tr>\n",
       "      <td>150</td>\n",
       "      <td>4.242400</td>\n",
       "    </tr>\n",
       "    <tr>\n",
       "      <td>180</td>\n",
       "      <td>4.161800</td>\n",
       "    </tr>\n",
       "    <tr>\n",
       "      <td>210</td>\n",
       "      <td>4.142500</td>\n",
       "    </tr>\n",
       "    <tr>\n",
       "      <td>240</td>\n",
       "      <td>4.057500</td>\n",
       "    </tr>\n",
       "    <tr>\n",
       "      <td>270</td>\n",
       "      <td>3.957400</td>\n",
       "    </tr>\n",
       "  </tbody>\n",
       "</table><p>"
      ],
      "text/plain": [
       "<IPython.core.display.HTML object>"
      ]
     },
     "metadata": {},
     "output_type": "display_data"
    },
    {
     "name": "stdout",
     "output_type": "stream",
     "text": [
      "Fine-tune finished\n",
      "Predict training data\n",
      "Predict testing data\n",
      "Run classification for results\n",
      "[[358   0   4   1   1   0]\n",
      " [  0 253   9  42  37  15]\n",
      " [  5   7 281  25   9  24]\n",
      " [  0  35  26 266  28   3]\n",
      " [  2  55   8  27 224  34]\n",
      " [  0  41  24   4  39 258]]\n",
      "[[1406    0   16    1    1    0]\n",
      " [   2 1031   26  158  157   58]\n",
      " [  37   24 1180   67   55   74]\n",
      " [   3  134   60 1042  162   29]\n",
      " [   5  195   63  140  911  124]\n",
      " [   8  125   83   27  140 1039]]\n"
     ]
    }
   ],
   "source": [
    "from mgtbench import AutoDetector, AutoExperiment\n",
    "nclass = len(set(data_dict['train']['label']))\n",
    "model= '/data1/zzy/roberta-base'\n",
    "metric = AutoDetector.from_detector_name('LM-D',\n",
    "                                        model_name_or_path=model,\n",
    "                                        num_labels=nclass,\n",
    "                                        use_metric=True\n",
    "                                        )\n",
    "experiment = AutoExperiment.from_experiment_name('supervised',detector=[metric])\n",
    "experiment.load_data(data_dict)\n",
    "\n",
    "config = {\n",
    "    'need_finetune': True,\n",
    "    'need_save': False,\n",
    "    'epochs': 2,\n",
    "    'batch_size': 64,\n",
    "    'lr':5e-6,\n",
    "    'disable_tqdm': True\n",
    "    }\n",
    "res = experiment.launch(**config)"
   ]
  },
  {
   "cell_type": "code",
   "execution_count": 6,
   "metadata": {},
   "outputs": [
    {
     "data": {
      "text/plain": [
       "[DetectOutput(name='test_pred', train=None, test=Metric(acc=0.7645687645687645, precision=0.7660343494346146, recall=0.7645687645687645, f1=0.7647463869086015, auc=-1.0, conf_m=array([[358,   0,   4,   1,   1,   0],\n",
       "        [  0, 253,   9,  42,  37,  15],\n",
       "        [  5,   7, 281,  25,   9,  24],\n",
       "        [  0,  35,  26, 266,  28,   3],\n",
       "        [  2,  55,   8,  27, 224,  34],\n",
       "        [  0,  41,  24,   4,  39, 258]]))),\n",
       " DetectOutput(name='train_pred', train=None, test=Metric(acc=0.7700104858441105, precision=0.7700292688758228, recall=0.7700104858441105, f1=0.769749548423765, auc=-1.0, conf_m=array([[1406,    0,   16,    1,    1,    0],\n",
       "        [   2, 1031,   26,  158,  157,   58],\n",
       "        [  37,   24, 1180,   67,   55,   74],\n",
       "        [   3,  134,   60, 1042,  162,   29],\n",
       "        [   5,  195,   63,  140,  911,  124],\n",
       "        [   8,  125,   83,   27,  140, 1039]])))]"
      ]
     },
     "execution_count": 6,
     "metadata": {},
     "output_type": "execute_result"
    }
   ],
   "source": [
    "res"
   ]
  }
 ],
 "metadata": {
  "kernelspec": {
   "display_name": "llm",
   "language": "python",
   "name": "python3"
  },
  "language_info": {
   "codemirror_mode": {
    "name": "ipython",
    "version": 3
   },
   "file_extension": ".py",
   "mimetype": "text/x-python",
   "name": "python",
   "nbconvert_exporter": "python",
   "pygments_lexer": "ipython3",
   "version": "3.10.13"
  }
 },
 "nbformat": 4,
 "nbformat_minor": 2
}
