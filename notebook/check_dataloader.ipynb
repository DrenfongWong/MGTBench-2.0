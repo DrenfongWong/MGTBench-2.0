{
 "cells": [
  {
   "cell_type": "code",
   "execution_count": 1,
   "metadata": {},
   "outputs": [],
   "source": [
    "%load_ext autoreload\n",
    "%autoreload 2"
   ]
  },
  {
   "cell_type": "code",
   "execution_count": 2,
   "metadata": {},
   "outputs": [],
   "source": [
    "import os\n",
    "os.environ['HF_TOKEN'] = 'your_hf_token'"
   ]
  },
  {
   "cell_type": "markdown",
   "metadata": {},
   "source": [
    "#### Load the dataset\n",
    "This may take a few minutes to run for the first time.\n"
   ]
  },
  {
   "cell_type": "code",
   "execution_count": 8,
   "metadata": {},
   "outputs": [],
   "source": [
    "import sys\n",
    "sys.path.append('..')"
   ]
  },
  {
   "cell_type": "code",
   "execution_count": 9,
   "metadata": {},
   "outputs": [],
   "source": [
    "from mgtbench.loading.dataloader import load_attribution_topic, load_topic_data, load_subject_data, load_attribution, load_incremental, load_incremental_topic"
   ]
  },
  {
   "cell_type": "code",
   "execution_count": 10,
   "metadata": {},
   "outputs": [],
   "source": [
    "LLM_name = 'Llama3'\n",
    "subject = 'Literature'\n",
    "topic = 'STEM'\n",
    "seed = 3407"
   ]
  },
  {
   "cell_type": "code",
   "execution_count": null,
   "metadata": {},
   "outputs": [],
   "source": [
    "data = load_subject_data(detectLLM=LLM_name,\n",
    "                         category=subject,\n",
    "                         seed=seed\n",
    "                         )"
   ]
  },
  {
   "cell_type": "code",
   "execution_count": 11,
   "metadata": {},
   "outputs": [
    {
     "name": "stdout",
     "output_type": "stream",
     "text": [
      "using saved data ./exp_data/3407/Llama3_STEM.json\n",
      "train machine: 5717, train human: 5719\n",
      "test machine: 2451, test human: 2449\n"
     ]
    }
   ],
   "source": [
    "data = load_topic_data(detectLLM=LLM_name,\n",
    "                       topic=topic,\n",
    "                       seed=seed\n",
    "                          )"
   ]
  },
  {
   "cell_type": "code",
   "execution_count": 14,
   "metadata": {},
   "outputs": [],
   "source": [
    "data = load_attribution(category=subject,\n",
    "                        seed=seed)"
   ]
  },
  {
   "cell_type": "code",
   "execution_count": 17,
   "metadata": {},
   "outputs": [
    {
     "data": {
      "text/plain": [
       "('Riots, often perceived as savage due to the intense emotions they incite, can be a powerful tool for social change. As Cynthia Sheard suggests, the limitations of language in conveying the harsh realities of violence can lead to a sense of helplessness. However, riots can serve a purpose by drawing national attention to pressing issues, transcending barriers of class and geography. A notable example is the global impact of the Black Lives Matter movement, which gained momentum following the police shooting of Michael Brown in Ferguson, Missouri. This incident sparked widespread protests and media coverage, raising awareness among individuals who had previously been unaffected by police violence towards black males. The movement\\'s reach extended beyond local communities, engaging people across the country and around the world.\\n\\nA digital public can encompass various forms, as defined by Patricia G. Lange. A digital space, such as a social network, is a community where individuals are connected in some manner. These digital social networks, which facilitate the exchange and sharing of knowledge, are referred to as \"epistemopolis.\" An epistemopolis fosters the growth of communities centered around specific topics within a particular space. The complexity of these digital social spaces lies in the potential for any individual in the world to be connected to any other in a myriad of ways, highlighting the interconnectedness of our global society.',\n",
       " 1)"
      ]
     },
     "execution_count": 17,
     "metadata": {},
     "output_type": "execute_result"
    }
   ],
   "source": [
    "data['train']['text'][0], data['train']['label'][0]"
   ]
  },
  {
   "cell_type": "code",
   "execution_count": 21,
   "metadata": {},
   "outputs": [
    {
     "data": {
      "text/plain": [
       "(\"Chapter VI: Kone Port Moresby\\n\\nMrs. Chalmers' health had faltered in the face of the challenging conditions in Suau, although her brave spirit had not revealed the extent of her illness. Tamate, along with a group, crossed the water from Suau to explore the possibility of sending teachers far inland amongst the mountains. On the way, they were led by an old chief who guided them across the mountains. However, the chief was quick to help in ways that he believed were more useful. A woman had died at a spot where they paused, and the party grew serious in mourning. They tore branches from the trees and moved in silence, brushing their feet with the branches to avoid tripping over the dead woman\\\\u2019s spirit.\\n\\nThe chief, then, made a significant contribution to the journey as they encountered rain by taking it upon himself to scold the rain to stop falling. They reached a little village to rest for the night.\",\n",
       " 2)"
      ]
     },
     "execution_count": 21,
     "metadata": {},
     "output_type": "execute_result"
    }
   ],
   "source": [
    "data['train']['text'][2], data['train']['label'][2]"
   ]
  },
  {
   "cell_type": "code",
   "execution_count": 49,
   "metadata": {},
   "outputs": [],
   "source": [
    "data = load_attribution_topic(topic=topic,\n",
    "                              seed=seed)"
   ]
  },
  {
   "cell_type": "code",
   "execution_count": 29,
   "metadata": {},
   "outputs": [],
   "source": [
    "order = [['Moonshot'], ['gpt35', 'Llama3']]\n",
    "data = load_incremental(order=order,\n",
    "                        category=subject,\n",
    "                        seed=seed)\n"
   ]
  },
  {
   "cell_type": "code",
   "execution_count": 37,
   "metadata": {},
   "outputs": [
    {
     "data": {
      "text/plain": [
       "(2, [0, 1, 0, 1, 0], [2, 3, 2, 2, 2])"
      ]
     },
     "execution_count": 37,
     "metadata": {},
     "output_type": "execute_result"
    }
   ],
   "source": [
    "len(data['train']), data['train'][0]['label'][:5], data['train'][1]['label'][:5]"
   ]
  },
  {
   "cell_type": "code",
   "execution_count": 44,
   "metadata": {},
   "outputs": [],
   "source": [
    "order = [['Moonshot'], ['gpt35', 'Llama3']]\n",
    "data = load_incremental_topic(order=order,\n",
    "                              topic=topic,\n",
    "                              seed=seed)"
   ]
  },
  {
   "cell_type": "code",
   "execution_count": 46,
   "metadata": {},
   "outputs": [
    {
     "data": {
      "text/plain": [
       "(2, [0, 1, 1, 1, 0], [3, 3, 3, 3, 3, 3, 2, 2, 2, 3])"
      ]
     },
     "execution_count": 46,
     "metadata": {},
     "output_type": "execute_result"
    }
   ],
   "source": [
    "len(data['train']), data['train'][0]['label'][:5], data['train'][1]['label'][:10]"
   ]
  }
 ],
 "metadata": {
  "language_info": {
   "name": "python"
  }
 },
 "nbformat": 4,
 "nbformat_minor": 2
}
