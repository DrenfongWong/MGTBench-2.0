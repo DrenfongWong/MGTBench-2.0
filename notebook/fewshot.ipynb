{
 "cells": [
  {
   "cell_type": "markdown",
   "metadata": {},
   "source": [
    "## Few-shot settings\n",
    "Given few shot data, we do not fine-tune the detector. Instead, we treat the model trained in the first satge as feature extractor, which is equalevent to few-shot learning.\n",
    "\n",
    "In adapting to new LLMs, the model may get kshot data of the previous classes."
   ]
  },
  {
   "cell_type": "code",
   "execution_count": 1,
   "metadata": {},
   "outputs": [],
   "source": [
    "%load_ext autoreload\n",
    "%autoreload 2"
   ]
  },
  {
   "cell_type": "code",
   "execution_count": 2,
   "metadata": {},
   "outputs": [],
   "source": [
    "import os\n",
    "os.environ[\"CUDA_DEVICE_ORDER\"]=\"PCI_BUS_ID\"   # see issue #152\n",
    "os.environ[\"CUDA_VISIBLE_DEVICES\"]=\"2\""
   ]
  },
  {
   "cell_type": "code",
   "execution_count": 3,
   "metadata": {},
   "outputs": [],
   "source": [
    "import sys\n",
    "sys.path.append('..')"
   ]
  },
  {
   "cell_type": "markdown",
   "metadata": {},
   "source": [
    "load_incremental_topic can be used by formatting the order\n",
    "\n",
    "---\n",
    "```python\n",
    "# two stages. first stage includes 4 classes (with human) and the second stage incude 2 classes\n",
    "order = [['gpt35', 'Mixtral','Moonshot',], ['Llama3','gpt-4omini']]\n",
    "```\n",
    "---\n",
    "```python\n",
    "# fives stages. first stage includes 2 classes (with human) and each remaining stage includes 1 class\n",
    "order = [['Moonshot'],['Mixtral'],['gpt35'],['Llama3'],['gpt-4omini']]\n",
    "```"
   ]
  },
  {
   "cell_type": "code",
   "execution_count": 5,
   "metadata": {},
   "outputs": [],
   "source": [
    "order = [['Moonshot'],['Mixtral'],['gpt35'],['Llama3'],['gpt-4omini']]\n",
    "order = [['gpt35', 'Mixtral','Moonshot','Llama3'],['gpt-4omini']]\n",
    "from mgtbench.loading import load_incremental_topic, load_incremental\n",
    "\n",
    "data = load_incremental_topic(order, \"Social_sciences\")\n",
    "# data = load_incremental(order, \"Art\")"
   ]
  },
  {
   "cell_type": "code",
   "execution_count": 6,
   "metadata": {},
   "outputs": [
    {
     "data": {
      "text/plain": [
       "({0, 1, 2, 3, 4}, {5})"
      ]
     },
     "execution_count": 6,
     "metadata": {},
     "output_type": "execute_result"
    }
   ],
   "source": [
    "set(data['train'][0]['label']), set(data['train'][1]['label'])"
   ]
  },
  {
   "cell_type": "code",
   "execution_count": 8,
   "metadata": {},
   "outputs": [],
   "source": [
    "import torch\n",
    "import numpy as np\n",
    "import random\n",
    "import os\n",
    "def setup_seed(seed):\n",
    "    os.environ['PYTHONHASHSEED'] = str(seed)\n",
    "    torch.manual_seed(seed)\n",
    "    torch.cuda.manual_seed(seed)\n",
    "    torch.cuda.manual_seed_all(seed)\n",
    "    np.random.seed(seed)\n",
    "    random.seed(seed)\n",
    "    torch.backends.cudnn.deterministic = True\n",
    "setup_seed(3407)"
   ]
  },
  {
   "cell_type": "code",
   "execution_count": 7,
   "metadata": {},
   "outputs": [
    {
     "data": {
      "text/plain": [
       "5"
      ]
     },
     "execution_count": 7,
     "metadata": {},
     "output_type": "execute_result"
    }
   ],
   "source": [
    "nclass = len(set(data['train'][0]['label']))\n",
    "nclass"
   ]
  },
  {
   "cell_type": "markdown",
   "metadata": {},
   "source": [
    "RelationNet"
   ]
  },
  {
   "cell_type": "code",
   "execution_count": 6,
   "metadata": {},
   "outputs": [
    {
     "name": "stderr",
     "output_type": "stream",
     "text": [
      "Some weights of RobertaForSequenceClassification were not initialized from the model checkpoint at /data1/models/roberta-base and are newly initialized: ['classifier.dense.bias', 'classifier.dense.weight', 'classifier.out_proj.bias', 'classifier.out_proj.weight']\n",
      "You should probably TRAIN this model on a down-stream task to be able to use it for predictions and inference.\n"
     ]
    },
    {
     "name": "stdout",
     "output_type": "stream",
     "text": [
      "length is set to 512\n",
      "Calculate result for each data point\n",
      "Running prediction of detector rn\n"
     ]
    },
    {
     "name": "stderr",
     "output_type": "stream",
     "text": [
      "/home/lyl/miniconda3/envs/llm/lib/python3.10/site-packages/transformers/optimization.py:457: FutureWarning: This implementation of AdamW is deprecated and will be removed in a future version. Use the PyTorch implementation torch.optim.AdamW instead, or set `no_deprecation_warning=True` to disable this warning\n",
      "  warnings.warn(\n",
      "/home/lyl/miniconda3/envs/llm/lib/python3.10/site-packages/accelerate/accelerator.py:457: FutureWarning: Passing the following arguments to `Accelerator` is deprecated and will be removed in version 1.0 of Accelerate: dict_keys(['dispatch_batches', 'split_batches', 'even_batches', 'use_seedable_sampler']). Please pass an `accelerate.DataLoaderConfiguration` instead: \n",
      "dataloader_config = DataLoaderConfiguration(dispatch_batches=None, split_batches=False, even_batches=True, use_seedable_sampler=True)\n",
      "  warnings.warn(\n",
      "Detected kernel version 5.4.0, which is below the recommended minimum of 5.5.0; this can cause the process to hang. It is recommended to upgrade the kernel to the minimum version or higher.\n"
     ]
    },
    {
     "data": {
      "text/html": [
       "\n",
       "    <div>\n",
       "      \n",
       "      <progress value='98' max='98' style='width:300px; height:20px; vertical-align: middle;'></progress>\n",
       "      [98/98 00:45, Epoch 1/1]\n",
       "    </div>\n",
       "    <table border=\"1\" class=\"dataframe\">\n",
       "  <thead>\n",
       " <tr style=\"text-align: left;\">\n",
       "      <th>Step</th>\n",
       "      <th>Training Loss</th>\n",
       "    </tr>\n",
       "  </thead>\n",
       "  <tbody>\n",
       "    <tr>\n",
       "      <td>50</td>\n",
       "      <td>0.902800</td>\n",
       "    </tr>\n",
       "  </tbody>\n",
       "</table><p>"
      ],
      "text/plain": [
       "<IPython.core.display.HTML object>"
      ]
     },
     "metadata": {},
     "output_type": "display_data"
    },
    {
     "name": "stderr",
     "output_type": "stream",
     "text": [
      "100%|██████████| 120/120 [00:01<00:00, 106.80it/s]\n",
      "100%|██████████| 90/90 [00:00<00:00, 115.09it/s]\n"
     ]
    },
    {
     "name": "stdout",
     "output_type": "stream",
     "text": [
      "0.2603793740272522\n",
      "0.10639829188585281\n",
      "0.06096925958991051\n",
      "0.02816082537174225\n",
      "0.021494131535291672\n",
      "0.0206310972571373\n",
      "Fine-tune finished\n",
      "Predict testing data\n"
     ]
    },
    {
     "name": "stderr",
     "output_type": "stream",
     "text": [
      "100%|██████████| 2308/2308 [00:20<00:00, 114.65it/s]\n"
     ]
    },
    {
     "name": "stdout",
     "output_type": "stream",
     "text": [
      "torch.Size([2308, 768]) torch.Size([768])\n",
      "Run classification for results\n",
      "[[357  33   0   0   0   0]\n",
      " [  4 195  33  19  29 110]\n",
      " [  0  21 245  48  73   3]\n",
      " [  0   4  45 223  97  21]\n",
      " [  1  31 108  73 117  28]\n",
      " [  0  37  26  55 101 171]]\n"
     ]
    }
   ],
   "source": [
    "from mgtbench import AutoDetector, AutoExperiment\n",
    "method = 'rn'\n",
    "model= '/data1/models/roberta-base'\n",
    "nclass = len(set(data['train'][0]['label']))\n",
    "\n",
    "metric = AutoDetector.from_detector_name(method, model_name_or_path=model,num_labels=nclass,kshot=5)\n",
    "experiment = AutoExperiment.from_experiment_name('fewshot',detector=[metric])\n",
    "config = {'need_finetune': True,\n",
    "          'need_save': False,\n",
    "          'epochs': 1,\n",
    "          'lr': 5e-6,\n",
    "          'batch_size':64,\n",
    "          'save_path': '/data1/lyl/mgtout-1/',\n",
    "          'eval':True,\n",
    "          'lr_factor': 4,\n",
    "          'kshot':20,\n",
    "          'classifier':'MLP'\n",
    "        }\n",
    "# cfg = SupervisedConfig()\n",
    "# cfg.update(config)\n",
    "experiment.load_data(data)\n",
    "res = experiment.launch(**config)"
   ]
  },
  {
   "cell_type": "code",
   "execution_count": 7,
   "metadata": {},
   "outputs": [
    {
     "data": {
      "text/plain": [
       "[DetectOutput(name='test_pred', train=None, test=Metric(acc=0.5667244367417678, precision=0.580324360793989, recall=0.5667244367417678, f1=0.5709198209659895, auc=-1.0, conf_m=array([[357,  33,   0,   0,   0,   0],\n",
       "        [  4, 195,  33,  19,  29, 110],\n",
       "        [  0,  21, 245,  48,  73,   3],\n",
       "        [  0,   4,  45, 223,  97,  21],\n",
       "        [  1,  31, 108,  73, 117,  28],\n",
       "        [  0,  37,  26,  55, 101, 171]])))]"
      ]
     },
     "execution_count": 7,
     "metadata": {},
     "output_type": "execute_result"
    }
   ],
   "source": [
    "res"
   ]
  },
  {
   "cell_type": "markdown",
   "metadata": {},
   "source": [
    "distribution calibration"
   ]
  },
  {
   "cell_type": "code",
   "execution_count": 8,
   "metadata": {},
   "outputs": [
    {
     "name": "stderr",
     "output_type": "stream",
     "text": [
      "Some weights of RobertaForSequenceClassification were not initialized from the model checkpoint at /data1/models/roberta-base and are newly initialized: ['classifier.dense.bias', 'classifier.dense.weight', 'classifier.out_proj.bias', 'classifier.out_proj.weight']\n",
      "You should probably TRAIN this model on a down-stream task to be able to use it for predictions and inference.\n"
     ]
    },
    {
     "name": "stdout",
     "output_type": "stream",
     "text": [
      "length is set to 512\n",
      "Calculate result for each data point\n",
      "Running prediction of detector generate\n"
     ]
    },
    {
     "name": "stderr",
     "output_type": "stream",
     "text": [
      "/home/lyl/miniconda3/envs/llm/lib/python3.10/site-packages/transformers/optimization.py:457: FutureWarning: This implementation of AdamW is deprecated and will be removed in a future version. Use the PyTorch implementation torch.optim.AdamW instead, or set `no_deprecation_warning=True` to disable this warning\n",
      "  warnings.warn(\n",
      "/home/lyl/miniconda3/envs/llm/lib/python3.10/site-packages/accelerate/accelerator.py:457: FutureWarning: Passing the following arguments to `Accelerator` is deprecated and will be removed in version 1.0 of Accelerate: dict_keys(['dispatch_batches', 'split_batches', 'even_batches', 'use_seedable_sampler']). Please pass an `accelerate.DataLoaderConfiguration` instead: \n",
      "dataloader_config = DataLoaderConfiguration(dispatch_batches=None, split_batches=False, even_batches=True, use_seedable_sampler=True)\n",
      "  warnings.warn(\n",
      "Detected kernel version 5.4.0, which is below the recommended minimum of 5.5.0; this can cause the process to hang. It is recommended to upgrade the kernel to the minimum version or higher.\n"
     ]
    },
    {
     "data": {
      "text/html": [
       "\n",
       "    <div>\n",
       "      \n",
       "      <progress value='196' max='196' style='width:300px; height:20px; vertical-align: middle;'></progress>\n",
       "      [196/196 01:32, Epoch 2/2]\n",
       "    </div>\n",
       "    <table border=\"1\" class=\"dataframe\">\n",
       "  <thead>\n",
       " <tr style=\"text-align: left;\">\n",
       "      <th>Step</th>\n",
       "      <th>Training Loss</th>\n",
       "    </tr>\n",
       "  </thead>\n",
       "  <tbody>\n",
       "    <tr>\n",
       "      <td>50</td>\n",
       "      <td>0.958000</td>\n",
       "    </tr>\n",
       "    <tr>\n",
       "      <td>100</td>\n",
       "      <td>0.591700</td>\n",
       "    </tr>\n",
       "    <tr>\n",
       "      <td>150</td>\n",
       "      <td>0.394300</td>\n",
       "    </tr>\n",
       "  </tbody>\n",
       "</table><p>"
      ],
      "text/plain": [
       "<IPython.core.display.HTML object>"
      ]
     },
     "metadata": {},
     "output_type": "display_data"
    },
    {
     "name": "stdout",
     "output_type": "stream",
     "text": [
      "training Macro F1 Score: 0.9893\n",
      "Fine-tune finished\n",
      "Predict testing data\n",
      "Run classification for results\n",
      "[[387   3   0   0   0   0]\n",
      " [ 11 340  10  15   2  12]\n",
      " [  5  20 277  79   8   1]\n",
      " [  1   0  28 348   2  11]\n",
      " [  2  26 151 169   5   5]\n",
      " [  2  41  24 210   3 110]]\n"
     ]
    }
   ],
   "source": [
    "from mgtbench import AutoDetector, AutoExperiment\n",
    "method = 'generate'\n",
    "model= '/data1/models/roberta-base'\n",
    "nclass = len(set(data['train'][0]['label']))\n",
    "\n",
    "metric = AutoDetector.from_detector_name(method, model_name_or_path=model,num_labels=nclass,kshot=5)\n",
    "experiment = AutoExperiment.from_experiment_name('fewshot',detector=[metric])\n",
    "config = {'need_finetune': True,\n",
    "          'need_save': False,\n",
    "          'epochs': 2,\n",
    "          'lr': 5e-6,\n",
    "          'batch_size':64,\n",
    "          'save_path': '/data1/lyl/mgtout-1/',\n",
    "          'eval':True,\n",
    "          'lr_factor': 4,\n",
    "          'kshot':20,\n",
    "          'classifier':'MLP'\n",
    "        }\n",
    "# cfg = SupervisedConfig()\n",
    "# cfg.update(config)\n",
    "experiment.load_data(data)\n",
    "res = experiment.launch(**config)"
   ]
  },
  {
   "cell_type": "code",
   "execution_count": 9,
   "metadata": {},
   "outputs": [
    {
     "data": {
      "text/plain": [
       "[DetectOutput(name='test_pred', train=None, test=Metric(acc=0.6356152512998267, precision=0.633540572671102, recall=0.6356152512998267, f1=0.5818964855507842, auc=-1.0, conf_m=array([[387,   3,   0,   0,   0,   0],\n",
       "        [ 11, 340,  10,  15,   2,  12],\n",
       "        [  5,  20, 277,  79,   8,   1],\n",
       "        [  1,   0,  28, 348,   2,  11],\n",
       "        [  2,  26, 151, 169,   5,   5],\n",
       "        [  2,  41,  24, 210,   3, 110]])))]"
      ]
     },
     "execution_count": 9,
     "metadata": {},
     "output_type": "execute_result"
    }
   ],
   "source": [
    "res"
   ]
  },
  {
   "cell_type": "markdown",
   "metadata": {},
   "source": [
    "ProtNet"
   ]
  },
  {
   "cell_type": "code",
   "execution_count": 11,
   "metadata": {},
   "outputs": [
    {
     "name": "stderr",
     "output_type": "stream",
     "text": [
      "Some weights of RobertaForSequenceClassification were not initialized from the model checkpoint at /data1/models/roberta-base and are newly initialized: ['classifier.dense.bias', 'classifier.dense.weight', 'classifier.out_proj.bias', 'classifier.out_proj.weight']\n",
      "You should probably TRAIN this model on a down-stream task to be able to use it for predictions and inference.\n"
     ]
    },
    {
     "name": "stdout",
     "output_type": "stream",
     "text": [
      "length is set to 512\n",
      "Calculate result for each data point\n",
      "Running prediction of detector baseline\n",
      "Fine-tune finished\n",
      "Predict testing data\n",
      "Run classification for results\n",
      "[[ 73  68  10  29  70 140]\n",
      " [ 51  55  22  55  57 150]\n",
      " [ 19  66  94  86  49  76]\n",
      " [ 12  23  60 124  58 113]\n",
      " [ 20  54  55  76  71  82]\n",
      " [ 23  36  25  63  79 164]]\n"
     ]
    }
   ],
   "source": [
    "from mgtbench import AutoDetector, AutoExperiment\n",
    "method = 'baseline'\n",
    "model= '/data1/models/roberta-base'\n",
    "nclass = len(set(data['train'][0]['label']))\n",
    "\n",
    "metric = AutoDetector.from_detector_name(method, model_name_or_path=model,num_labels=nclass,kshot=5)\n",
    "experiment = AutoExperiment.from_experiment_name('fewshot',detector=[metric])\n",
    "config = {'need_finetune': False,\n",
    "          'need_save': False,\n",
    "          'epochs': 1,\n",
    "          'lr': 5e-6,\n",
    "          'batch_size':64,\n",
    "          'save_path': '/data1/lyl/mgtout-1/',\n",
    "          'eval':True,\n",
    "          'lr_factor': 4,\n",
    "          'kshot':5,\n",
    "          'classifier':'MLP'\n",
    "        }\n",
    "# cfg = SupervisedConfig()\n",
    "# cfg.update(config)\n",
    "experiment.load_data(data)\n",
    "res = experiment.launch(**config)"
   ]
  },
  {
   "cell_type": "code",
   "execution_count": 12,
   "metadata": {},
   "outputs": [
    {
     "data": {
      "text/plain": [
       "[DetectOutput(name='test_pred', train=None, test=Metric(acc=0.2517331022530329, precision=0.2680819878487759, recall=0.2517331022530329, f1=0.24755593478277405, auc=-1.0, conf_m=array([[ 73,  68,  10,  29,  70, 140],\n",
       "        [ 51,  55,  22,  55,  57, 150],\n",
       "        [ 19,  66,  94,  86,  49,  76],\n",
       "        [ 12,  23,  60, 124,  58, 113],\n",
       "        [ 20,  54,  55,  76,  71,  82],\n",
       "        [ 23,  36,  25,  63,  79, 164]])))]"
      ]
     },
     "execution_count": 12,
     "metadata": {},
     "output_type": "execute_result"
    }
   ],
   "source": [
    "res"
   ]
  }
 ],
 "metadata": {
  "kernelspec": {
   "display_name": "llm",
   "language": "python",
   "name": "python3"
  },
  "language_info": {
   "codemirror_mode": {
    "name": "ipython",
    "version": 3
   },
   "file_extension": ".py",
   "mimetype": "text/x-python",
   "name": "python",
   "nbconvert_exporter": "python",
   "pygments_lexer": "ipython3",
   "version": "3.10.13"
  }
 },
 "nbformat": 4,
 "nbformat_minor": 2
}
